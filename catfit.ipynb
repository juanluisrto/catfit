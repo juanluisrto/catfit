{
 "cells": [
  {
   "cell_type": "markdown",
   "id": "2536a225-947c-409c-bb45-b38fe41d23c7",
   "metadata": {},
   "source": [
    "# Classifier based on curve parametrization \n",
    "\n",
    "\n",
    "- https://en.wikipedia.org/wiki/Softmax_function\n",
    "- https://en.wikipedia.org/wiki/Smooth_maximum\n",
    "- http://www.leadinglesson.com/problem-on-taking-the-gradient-of-a-composition-of-functions\n",
    "- https://gist.github.com/sagarmainkar/41d135a04d7d3bc4098f0664fe20cf3c\n",
    "- https://www.geeksforgeeks.org/how-to-find-gradient-of-a-function-using-python/"
   ]
  },
  {
   "cell_type": "code",
   "execution_count": 1,
   "id": "3dcec7cb-7d4c-44ed-81b7-b0f649bf9284",
   "metadata": {},
   "outputs": [],
   "source": [
    "import numpy as np\n",
    "import pandas as pd\n",
    "import seaborn as sns"
   ]
  },
  {
   "cell_type": "code",
   "execution_count": 2,
   "id": "036e2dc7-e8f3-43ec-bce9-b1c1c22de0f6",
   "metadata": {},
   "outputs": [],
   "source": [
    "class CategoricalCurveModel:\n",
    "    \n",
    "    def __init__(self, pol_degree = 3, alpha = 5):\n",
    "        self.alpha = alpha #alpha value for the smooth maximum function\n",
    "        self.pol_degree = pol_degree\n",
    "    \n",
    "    def compute_coords(self):\n",
    "        # coords = (a_0 + b_0t + c_0t^2, a_1 + b_1t + c_1t^2, a_2 + b_2t + c_2t^2)\n",
    "        # shape of theta => (n_categories, pol_degree)\n",
    "        # shape of X_pol => (pol_degree, n_points)\n",
    "        # shape of coords => (n_points, n_categories)\n",
    "        return self.theta.dot(self.X_pol).T\n",
    "    \n",
    "    def get_X_pol(self, X):\n",
    "        # defines the curve monomials (1,t,t^2) from the input data: Later we compute the dot product between theta @ X_pol\n",
    "        return np.array([X**i for i in range(self.pol_degree)]).reshape((self.pol_degree,len(X))) # (1,t,t^2)\n",
    "        \n",
    "    def get_Sα_max_coord(self):\n",
    "        #return np.array([smooth_maximum(v, self.alpha) for v in self.coords])\n",
    "        #return self.coords.max(axis = 1)\n",
    "        max_coord_pos = np.abs(self.coords).argmax(axis = 1)\n",
    "        return np.array([c[pos] for c, pos in zip(self.coords,max_coord_pos)])\n",
    "    \n",
    "    def g(self):\n",
    "        #g(t_i) = a_i + b_it + c_it^2\n",
    "        correct_coord = np.array([c[pos] for c, pos in zip(self.coords,self.arg_correct_coord)])\n",
    "        return correct_coord\n",
    "\n",
    "    def dg_dθ(self):\n",
    "        # derivative of g respect to each theta coeficient given a specific data point.\n",
    "        return self.X_pol # (1,t,t^2)\n",
    "\n",
    "    def softmax_coord(self):\n",
    "        # returns the softmax of the class coordinate to which a given point belongs.\n",
    "        softmax_values = np.array([softmax(self.alpha*v) for v in self.coords])\n",
    "        return np.array([c[pos] for c, pos in zip(softmax_values,self.arg_correct_coord)])\n",
    "\n",
    "    def cost(self):\n",
    "        #f(x_i) = Sα(|x_1|,...,|x_n|) - |x_i|\n",
    "        #cost(t_i) = f(g(t_i))\n",
    "        return np.abs(self.get_Sα_max_coord()) - np.abs(self.g())\n",
    "\n",
    "    \n",
    "    def grad_cost(self):\n",
    "        self.coords = self.compute_coords()\n",
    "\n",
    "        gθ = self.g()\n",
    "        dgdθ = self.dg_dθ()\n",
    "        Sα_max_coord = self.get_Sα_max_coord()\n",
    "        dfdθ = (np.sign(gθ) * dgdθ * softmax(self.alpha * np.abs(gθ)) * (1 + self.alpha*(np.abs(gθ) - np.abs(Sα_max_coord))) - np.sign(gθ) * dgdθ).T\n",
    "        theta_update = np.zeros((len(self.X),self.n_categories,self.pol_degree))\n",
    "        for i, arg, θ in zip(range(len(X)), self.arg_correct_coord, dfdθ):\n",
    "            theta_update[i,arg] = θ\n",
    "        #print(theta_update)\n",
    "        return theta_update.sum(axis = 0)\n",
    "    \n",
    "    \n",
    "    def fit(self, X, y, learning_rate = 0.01, iterations=100, compute_accuracy = True):\n",
    "        self.X = X\n",
    "        self.y = y\n",
    "        self.categories = sorted(np.unique(y))\n",
    "        self.n_categories = len(self.categories)\n",
    "        self.map_dim_cat = {c : i for i,c in enumerate(self.categories)}\n",
    "        self.map_cat_dim = {i : c for i,c in enumerate(self.categories)} #used for the output\n",
    "        \n",
    "        self.arg_correct_coord = np.vectorize(self.map_dim_cat.get)(y)\n",
    "        \n",
    "        self.theta = 0.1*(np.random.random(size = (self.n_categories, self.pol_degree)) - 0.5) #we initialize the weights for the curve\n",
    "        self.X_pol = self.get_X_pol(X)\n",
    "        self.coords = self.compute_coords()\n",
    "        \n",
    "        self.theta_history = np.array([self.theta])\n",
    "        self.cost_history = np.array([self.cost()])\n",
    "        self.coords_history = np.array([self.coords])\n",
    "        self.acc_history = []\n",
    "        \n",
    "        for it in range(iterations):\n",
    "            model.theta = model.theta - (1/len(self.y))*learning_rate*(model.grad_cost())\n",
    "            \n",
    "            if compute_accuracy:\n",
    "                y_pred = model.predict(X)\n",
    "                self.acc_history.append(accuracy_score(y_pred = y_pred, y_true = y))\n",
    "            self.theta_history = np.append(self.theta_history,[model.theta], axis = 0)\n",
    "            self.cost_history = np.append(self.cost_history,[model.cost()], axis = 0)\n",
    "            self.coords_history  = np.append(self.coords_history, [self.coords], axis = 0)\n",
    "    \n",
    "    def predict(self, X):\n",
    "        X_pol = self.get_X_pol(X)\n",
    "        coords = self.theta.dot(X_pol).T #coords of the predicted points in feature space\n",
    "        return np.vectorize(self.map_cat_dim.get)(np.abs(coords).argmax(axis = 1)) #we get the max coordinate and return its associated category\n",
    "        "
   ]
  },
  {
   "cell_type": "code",
   "execution_count": 4,
   "id": "1575d15b-9d34-4429-97aa-553eeedddc48",
   "metadata": {},
   "outputs": [],
   "source": [
    "#original\n",
    "#dfdθ = -(np.sign(gθ) * dgdθ - np.sign(Sα_max_coord) * dgdθ * softmax(self.alpha*gθ) * (1 + self.alpha*(gθ - Sα_max_coord))).T\n",
    "\n",
    "#correcta segun teoría\n",
    "#dfdθ = (np.sign(gθ) * dgdθ * softmax(self.alpha * np.abs(gθ)) * (1 + self.alpha*(np.abs(gθ) - np.abs(Sα_max_coord))) - np.sign(gθ) * dgdθ).T\n"
   ]
  },
  {
   "cell_type": "code",
   "execution_count": 5,
   "id": "36142ddb-db08-437a-a6a3-98f3191f3e12",
   "metadata": {},
   "outputs": [],
   "source": [
    "def softmax(x):\n",
    "    \"\"\"Compute softmax values for each sets of scores in x.\"\"\"\n",
    "    e_x = np.exp(x - np.max(x))\n",
    "    return e_x / e_x.sum(axis=0)"
   ]
  },
  {
   "cell_type": "code",
   "execution_count": 6,
   "id": "3a538cac-daf5-416b-84ff-a06cc52a6d66",
   "metadata": {},
   "outputs": [],
   "source": [
    "def smooth_maximum(x, alpha = 5):\n",
    "    return (x*np.exp(alpha*x)).sum()/np.exp(alpha*x).sum()"
   ]
  },
  {
   "cell_type": "code",
   "execution_count": 7,
   "id": "f141f206-e901-4813-ad37-32106d202086",
   "metadata": {},
   "outputs": [],
   "source": [
    "categories = [\"A\", \"B\", \"C\"]\n",
    "map_dim_cat = {c : i for i,c in enumerate(categories)}\n",
    "n_categories = len(categories)\n",
    "n_variables = 1\n",
    "n_points = 500\n",
    "\n",
    "pol_degree = 3"
   ]
  },
  {
   "cell_type": "code",
   "execution_count": 8,
   "id": "fab1482b-fd4c-48ae-9c02-d041f154a4f7",
   "metadata": {},
   "outputs": [],
   "source": [
    "\n",
    "X = np.random.random([n_points,n_variables])\n",
    "y = np.random.choice(categories, n_points)"
   ]
  },
  {
   "cell_type": "code",
   "execution_count": 9,
   "id": "15a9bff7-c743-4ec2-a00b-b64dad52f0c0",
   "metadata": {},
   "outputs": [
    {
     "name": "stderr",
     "output_type": "stream",
     "text": [
      "/var/folders/cx/865gkv912xj3_mfvrtptff_r0000gp/T/ipykernel_80339/3268355298.py:1: FutureWarning: In a future version of pandas all arguments of concat except for the argument 'objs' will be keyword-only.\n",
      "  df = pd.concat([pd.DataFrame(X),pd.DataFrame(y)], 1)\n"
     ]
    }
   ],
   "source": [
    "df = pd.concat([pd.DataFrame(X),pd.DataFrame(y)], 1)\n",
    "df.columns = [f\"x_{i}\" for i in range(X.shape[1])] + [\"y\"]"
   ]
  },
  {
   "cell_type": "code",
   "execution_count": null,
   "id": "794d3cd6-50bd-445d-9f44-4547de3eccba",
   "metadata": {},
   "outputs": [],
   "source": [
    "import matplotlib.pyplot as plt\n",
    "\n",
    "from sklearn.metrics import confusion_matrix, plot_confusion_matrix, accuracy_score\n",
    "from sklearn.datasets import load_iris\n",
    "from sklearn.preprocessing import StandardScaler\n",
    "\n",
    "sc = StandardScaler()"
   ]
  },
  {
   "cell_type": "markdown",
   "id": "ce5a4b82-12d4-4470-90e5-76b5d5327a17",
   "metadata": {},
   "source": [
    "#### Made up classification problem "
   ]
  },
  {
   "cell_type": "code",
   "execution_count": 76,
   "id": "01154ad1-f89a-49af-b846-49d1760c600c",
   "metadata": {},
   "outputs": [],
   "source": [
    "from sklearn.datasets import make_classification\n",
    "\n",
    "n_features = 1\n",
    "n_classes = 3\n",
    "X, y = make_classification(n_samples=700, \n",
    "                           n_features=20, \n",
    "                           n_informative=20,\n",
    "                           n_classes = n_classes,\n",
    "                           n_redundant=0,\n",
    "                           random_state=41)\n",
    "\n",
    "X = X[:,:n_features]"
   ]
  },
  {
   "cell_type": "markdown",
   "id": "1f7c97a1-7659-4631-85ed-1aea28779847",
   "metadata": {},
   "source": [
    "#### Iris dataset classification dataset"
   ]
  },
  {
   "cell_type": "code",
   "execution_count": 78,
   "id": "1b38b88b-73cf-477a-9741-f9494c6aea79",
   "metadata": {},
   "outputs": [
    {
     "data": {
      "text/plain": [
       "setosa        50\n",
       "versicolor    50\n",
       "virginica     50\n",
       "dtype: int64"
      ]
     },
     "execution_count": 78,
     "metadata": {},
     "output_type": "execute_result"
    }
   ],
   "source": [
    "\n",
    "\n",
    "iris = load_iris()\n",
    "X = iris.data[:, :1]  # we only take the first feature for now.\n",
    "y = iris.target_names[iris.target]\n",
    "pd.value_counts(y)"
   ]
  },
  {
   "cell_type": "markdown",
   "id": "9c1a9d6c-7427-45db-9c3e-acf795c9e16a",
   "metadata": {},
   "source": [
    "### Benchmark"
   ]
  },
  {
   "cell_type": "code",
   "execution_count": 79,
   "id": "1d893550-2b2c-4daf-bc00-8d8faef9b05e",
   "metadata": {},
   "outputs": [],
   "source": [
    "X = sc.fit_transform(X)"
   ]
  },
  {
   "cell_type": "code",
   "execution_count": 80,
   "id": "d7a3c405-4bce-4001-a17b-00aa78fbf64b",
   "metadata": {
    "tags": []
   },
   "outputs": [],
   "source": [
    "from sklearn.linear_model import LogisticRegression\n",
    "clf = LogisticRegression(random_state = None, solver='lbfgs', multi_class='auto', penalty = \"none\")\n",
    "clf.fit(X, y)\n",
    "y_pred_benchmark = clf.predict(X)"
   ]
  },
  {
   "cell_type": "code",
   "execution_count": 102,
   "id": "7fc78ec0-3e13-4fd4-b9dc-688b3adc3b97",
   "metadata": {},
   "outputs": [],
   "source": [
    "model = CategoricalCurveModel(pol_degree = 5, alpha=5)\n",
    "model.fit(X,y, learning_rate = 0.001, iterations=1500)\n",
    "\n",
    "best_weights_id = np.array(model.acc_history).argmax()\n",
    "model.theta = model.theta_history[best_weights_id]\n",
    "y_pred = model.predict(X)"
   ]
  },
  {
   "cell_type": "code",
   "execution_count": 103,
   "id": "324d20b2-cf96-417e-8735-182c79111dd5",
   "metadata": {},
   "outputs": [],
   "source": [
    "cost_through_epochs = model.cost_history.sum(axis = 1)\n",
    "sum_theta_through_epochs = np.abs(model.theta_history).sum(axis = (1,2))"
   ]
  },
  {
   "cell_type": "code",
   "execution_count": 104,
   "id": "500c0789-0d8f-471d-9276-6cd58ad70183",
   "metadata": {},
   "outputs": [
    {
     "data": {
      "text/plain": [
       "[<matplotlib.lines.Line2D at 0x7fc8f0dce460>]"
      ]
     },
     "execution_count": 104,
     "metadata": {},
     "output_type": "execute_result"
    },
    {
     "data": {
      "image/png": "[encoded data removed]",
      "text/plain": [
       "<Figure size 1440x504 with 3 Axes>"
      ]
     },
     "metadata": {
      "needs_background": "light"
     },
     "output_type": "display_data"
    }
   ],
   "source": [
    "%matplotlib inline\n",
    "fig, ax = plt.subplots(ncols = 3, figsize = (20,7))\n",
    "cost_plot, theta_plot, acc_plot = ax\n",
    "cost_plot.set_title(\"cost_through_epochs\", size = 16)\n",
    "cost_plot.plot(cost_through_epochs)\n",
    "theta_plot.set_title(\"sum_theta_through_epochs\", size = 16)\n",
    "theta_plot.plot(sum_theta_through_epochs)\n",
    "acc_plot.set_title(\"Accuracy_through_epochs\", size = 16)\n",
    "acc_plot.plot(model.acc_history)"
   ]
  },
  {
   "cell_type": "code",
   "execution_count": 105,
   "id": "da9db049-f777-409b-941f-9f2ec18891c6",
   "metadata": {},
   "outputs": [
    {
     "name": "stdout",
     "output_type": "stream",
     "text": [
      "End Accuracy = 0.6933333333333334\n",
      "Max Accuracy = 0.7133333333333334\n",
      "Accuracy Logistic Regression = 0.7466666666666667\n"
     ]
    }
   ],
   "source": [
    "acc = accuracy_score(y_pred = y_pred, y_true = y)\n",
    "acc_benchmark = accuracy_score(y_pred = y_pred_benchmark, y_true = y)\n",
    "max_accuracy = max(model.acc_history)\n",
    "print(f\"End Accuracy = {acc}\")\n",
    "print(f\"Max Accuracy = {max_accuracy}\")\n",
    "print(f\"Accuracy Logistic Regression = {acc_benchmark}\")"
   ]
  },
  {
   "cell_type": "code",
   "execution_count": 106,
   "id": "85f0d64d-1aea-4a72-a348-ad15bf3b6d5e",
   "metadata": {},
   "outputs": [],
   "source": [
    "def plot_confusion_matrix(y_true, y_pred, labels):\n",
    "    cm = confusion_matrix(y_true= y_true, y_pred = y_pred, labels = labels)\n",
    "    df_cm = pd.DataFrame(cm, index = [i for i in model.categories], columns = [i for i in labels])\n",
    "    plt.figure(figsize = (6,5))\n",
    "    return sns.heatmap(df_cm, annot=True)"
   ]
  },
  {
   "cell_type": "code",
   "execution_count": 107,
   "id": "066a04db-6c23-41b2-8c74-adb986533d5c",
   "metadata": {},
   "outputs": [
    {
     "data": {
      "text/plain": [
       "<AxesSubplot:>"
      ]
     },
     "execution_count": 107,
     "metadata": {},
     "output_type": "execute_result"
    },
    {
     "data": {
      "image/png": "[encoded data removed]",
      "text/plain": [
       "<Figure size 432x360 with 2 Axes>"
      ]
     },
     "metadata": {
      "needs_background": "light"
     },
     "output_type": "display_data"
    }
   ],
   "source": [
    "plot_confusion_matrix(y_pred = y_pred_benchmark, y_true = y, labels = model.categories)"
   ]
  },
  {
   "cell_type": "code",
   "execution_count": 108,
   "id": "93e57feb-2967-4ac1-920b-1dc1ba38251c",
   "metadata": {},
   "outputs": [
    {
     "data": {
      "text/plain": [
       "<AxesSubplot:>"
      ]
     },
     "execution_count": 108,
     "metadata": {},
     "output_type": "execute_result"
    },
    {
     "data": {
      "image/png": "[encoded data removed]",
      "text/plain": [
       "<Figure size 432x360 with 2 Axes>"
      ]
     },
     "metadata": {
      "needs_background": "light"
     },
     "output_type": "display_data"
    }
   ],
   "source": [
    "plot_confusion_matrix(y_pred = y_pred, y_true = y, labels = model.categories)"
   ]
  },
  {
   "cell_type": "code",
   "execution_count": 109,
   "id": "b7d06eb2-4295-4d84-87fe-3576eb7353a1",
   "metadata": {},
   "outputs": [],
   "source": [
    "def compute_coords(X, theta):\n",
    "    # coords = (a_0 + b_0t + c_0t^2, a_1 + b_1t + c_1t^2, a_2 + b_2t + c_2t^2)\n",
    "    pol_degree = theta.shape[1]\n",
    "    # shape of theta => (n_categories, pol_degree)\n",
    "    X_pol = np.array([X**i for i in range(pol_degree)]).reshape((pol_degree,len(X)))\n",
    "    # shape of X_pol => (pol_degree, n_points)\n",
    "    coords = theta.dot(X_pol).T\n",
    "    # shape of coords => (n_points, n_categories)\n",
    "    return coords"
   ]
  },
  {
   "cell_type": "code",
   "execution_count": 110,
   "id": "93d4412b-1d2e-4c72-8b9c-37c2bd4f8cfa",
   "metadata": {},
   "outputs": [],
   "source": [
    "epochs = len(model.theta_history)"
   ]
  },
  {
   "cell_type": "code",
   "execution_count": 138,
   "id": "a40090bb-763d-4cd2-a8c4-ae4e40399b36",
   "metadata": {},
   "outputs": [],
   "source": [
    "start = model.X.min()\n",
    "end = model.X.max()\n",
    "t = np.linspace(start,end,100)\n",
    "d = np.linspace(5*start,5*end,100)\n",
    "d0 = np.zeros(d.shape)\n",
    "colors = { name: color for name, color in zip(model.map_dim_cat, [\"tab:green\", \"tab:orange\", \"tab:blue\"])}\n",
    "color_list = list(map(colors.get, model.y))\n",
    "\n",
    "def plot_epochs(epoch):\n",
    "    fig = plt.figure(figsize = (10,10))\n",
    "    ax = fig.add_subplot( aspect='auto', projection='3d')\n",
    "    coords = compute_coords(t, model.theta_history[epoch])\n",
    "    x, y, z = coords.T\n",
    "    ax.plot(x,y,z)\n",
    "    x_,y_,z_ = model.coords_history[epoch].T\n",
    "    ax.scatter(x_,y_,z_, c = color_list, alpha = 0.6)\n",
    "    \n",
    "    ax.plot(d,d,d0, c = \"red\", alpha = 0.2)\n",
    "    ax.plot(d,d0,d, c = \"red\", alpha = 0.2)\n",
    "    ax.plot(d0,d,d, c = \"red\", alpha = 0.2)\n",
    "    ax.plot(d,-d,d0, c = \"red\", alpha = 0.2)\n",
    "    ax.plot(-d,d0,d, c = \"red\", alpha = 0.2)\n",
    "    ax.plot(d0,-d,d, c = \"red\", alpha = 0.2)\n",
    "    \n",
    "    ax.set_box_aspect((np.ptp(x), np.ptp(y), np.ptp(z)))\n",
    "    plt.show()\n",
    "plt.close()"
   ]
  },
  {
   "cell_type": "code",
   "execution_count": 139,
   "id": "f5051382-68db-4ac8-9bdb-a6015576b128",
   "metadata": {
    "scrolled": true,
    "tags": []
   },
   "outputs": [],
   "source": [
    "%matplotlib ipympl\n",
    "import ipywidgets as widgets\n",
    "from IPython.display import display\n",
    "\n",
    "epochs = len(model.theta_history)\n",
    "my_3dgraph = widgets.interactive(plot_epochs, epoch = (1, epochs - 1, 20))\n"
   ]
  },
  {
   "cell_type": "code",
   "execution_count": 142,
   "id": "133786f9-107e-4941-9d5c-e47f19030291",
   "metadata": {},
   "outputs": [],
   "source": [
    "# If ipympl is not working problem.\n",
    "# pip install --update jupyter-lab\n",
    "# pip uninstall ipympl\n",
    "# pip install ipympl"
   ]
  },
  {
   "cell_type": "code",
   "execution_count": 140,
   "id": "a1548200-2b5d-44c9-bdf8-5680ece50caa",
   "metadata": {},
   "outputs": [
    {
     "data": {
      "application/vnd.jupyter.widget-view+json": {
       "model_id": "550e86a286b24c6da9a686a5d02ba3a7",
       "version_major": 2,
       "version_minor": 0
      },
      "text/plain": [
       "interactive(children=(IntSlider(value=741, description='epoch', max=1500, min=1, step=20), Output()), _dom_cla…"
      ]
     },
     "metadata": {},
     "output_type": "display_data"
    }
   ],
   "source": [
    "plt.show()\n",
    "display(my_3dgraph)"
   ]
  },
  {
   "cell_type": "markdown",
   "id": "4f034939-8a13-49ef-9876-6d5415df35dc",
   "metadata": {},
   "source": [
    "# BORRADOR"
   ]
  },
  {
   "cell_type": "code",
   "execution_count": 664,
   "id": "b64aa430-2800-4b42-8a12-acc45aae6034",
   "metadata": {},
   "outputs": [],
   "source": [
    "#dummy example\n",
    "X = np.array([[3],[5]])\n",
    "theta = np.array(\n",
    "      [[1, 2, 3, 4],\n",
    "       [2, 3, 4, 5],\n",
    "       [5, 6, 7, 8]])\n"
   ]
  },
  {
   "cell_type": "code",
   "execution_count": 686,
   "id": "c1b65e16-3b0f-4a71-84cd-54979e0341a9",
   "metadata": {},
   "outputs": [
    {
     "data": {
      "text/plain": [
       "{'A': 0, 'B': 1, 'C': 2}"
      ]
     },
     "execution_count": 686,
     "metadata": {},
     "output_type": "execute_result"
    }
   ],
   "source": [
    "map_dim_cat"
   ]
  },
  {
   "cell_type": "code",
   "execution_count": 690,
   "id": "aad488df-225a-488a-a027-10763840ebf6",
   "metadata": {},
   "outputs": [
    {
     "data": {
      "text/plain": [
       "array([<map object at 0x7fcee09d2280>], dtype=object)"
      ]
     },
     "execution_count": 690,
     "metadata": {},
     "output_type": "execute_result"
    }
   ],
   "source": [
    "np.array([map(map_dim_cat.get, y)])"
   ]
  },
  {
   "cell_type": "code",
   "execution_count": 791,
   "id": "c4f306c4-5d88-4486-b975-61e686007c33",
   "metadata": {},
   "outputs": [
    {
     "data": {
      "text/plain": [
       "array([-0.69, -0.64, -0.64, -0.69, -0.52,  0.01, -0.82, -0.74, -0.57,\n",
       "        0.  , -0.94,  0.  ,  0.  ,  0.  , -1.17,  0.  , -0.78, -0.68,\n",
       "        0.  , -0.69, -1.23,  0.  , -0.88,  0.  ,  0.  ,  0.  , -0.47,\n",
       "        0.  ,  0.  , -0.85])"
      ]
     },
     "execution_count": 791,
     "metadata": {},
     "output_type": "execute_result"
    }
   ],
   "source": [
    "(np.abs(correct_coord) - np.abs(max_coord)).round(2)"
   ]
  },
  {
   "cell_type": "code",
   "execution_count": 846,
   "id": "727601f2-1c76-49fc-b057-a35529178d33",
   "metadata": {},
   "outputs": [
    {
     "data": {
      "text/plain": [
       "array([0.18863416, 0.84774788, 0.87267988, 0.18749214, 0.49007247,\n",
       "       0.8676768 , 0.27311599, 0.2305656 , 0.61057829, 1.23100538,\n",
       "       0.325014  , 1.74574036, 1.2178195 , 1.59174494, 0.39611367,\n",
       "       1.53574215, 0.25131314, 1.09227806, 1.00530146, 0.17882359,\n",
       "       0.41324186, 1.18970811, 0.30212389, 0.96426078, 1.14782746,\n",
       "       1.75955012, 0.42096253, 1.10166653, 1.58777094, 0.28644477])"
      ]
     },
     "execution_count": 846,
     "metadata": {},
     "output_type": "execute_result"
    }
   ],
   "source": [
    "gθ = g(X=X, y = y, theta=theta)"
   ]
  },
  {
   "cell_type": "code",
   "execution_count": 880,
   "id": "b197420d-b353-4d02-9cb8-56a5e42654a5",
   "metadata": {},
   "outputs": [
    {
     "data": {
      "text/plain": [
       "array([0.00169692, 0.01225774, 0.01320973, 0.00169112, 0.00419181,\n",
       "       0.01301295, 0.00218641, 0.00192439, 0.00601736, 0.03870352,\n",
       "       0.00255475, 0.18129678, 0.03720238, 0.11422259, 0.00316216,\n",
       "       0.0965577 , 0.00204798, 0.0255273 , 0.01966457, 0.00164771,\n",
       "       0.00332889, 0.0341936 , 0.00238521, 0.01738655, 0.03015638,\n",
       "       0.18896554, 0.0034069 , 0.02625651, 0.11286892, 0.00227561])"
      ]
     },
     "execution_count": 880,
     "metadata": {},
     "output_type": "execute_result"
    }
   ],
   "source": [
    "gθ = g(X=X, y = y, theta=theta)\n",
    "softmax(3*gθ)"
   ]
  },
  {
   "cell_type": "code",
   "execution_count": 429,
   "id": "fc6c882d-5a39-4acc-b338-92fc5927798d",
   "metadata": {},
   "outputs": [],
   "source": [
    "a = np.arange(10)\n",
    "a = np.stack([a for i in range(10)])"
   ]
  },
  {
   "cell_type": "code",
   "execution_count": 430,
   "id": "752e1fae-5e6b-4953-b4d0-1cb8e3eef309",
   "metadata": {},
   "outputs": [
    {
     "data": {
      "text/plain": [
       "array([[0, 1, 2, 3, 4, 5, 6, 7, 8, 9],\n",
       "       [0, 1, 2, 3, 4, 5, 6, 7, 8, 9],\n",
       "       [0, 1, 2, 3, 4, 5, 6, 7, 8, 9],\n",
       "       [0, 1, 2, 3, 4, 5, 6, 7, 8, 9],\n",
       "       [0, 1, 2, 3, 4, 5, 6, 7, 8, 9],\n",
       "       [0, 1, 2, 3, 4, 5, 6, 7, 8, 9],\n",
       "       [0, 1, 2, 3, 4, 5, 6, 7, 8, 9],\n",
       "       [0, 1, 2, 3, 4, 5, 6, 7, 8, 9],\n",
       "       [0, 1, 2, 3, 4, 5, 6, 7, 8, 9],\n",
       "       [0, 1, 2, 3, 4, 5, 6, 7, 8, 9]])"
      ]
     },
     "execution_count": 430,
     "metadata": {},
     "output_type": "execute_result"
    }
   ],
   "source": [
    "a"
   ]
  },
  {
   "cell_type": "code",
   "execution_count": 871,
   "id": "9b7ba3e9-0b9a-4c04-9b65-dc1d489d9e60",
   "metadata": {},
   "outputs": [],
   "source": [
    "def dg_dθ(X, theta):\n",
    "    # coords = (a_0 + b_0t + c_0t^2, a_1 + b_1t + c_1t^2, a_2 + b_2t + c_2t^2)\n",
    "    pol_degree = theta.shape[1]\n",
    "    X_pol = np.array([X**i for i in range(pol_degree)]).reshape((pol_degree,len(X)))\n",
    "    return X_pol # (1,t,t^2)\n",
    "    \n",
    "\n",
    "def f(**kwargs):\n",
    "    X, y, theta = kwargs.get(\"X\"), kwargs.get(\"y\"), kwargs.get(\"theta\")\n",
    "    coords = compute_coords(X, theta)\n",
    "    max_coord = np.array([smooth_maximum(v, 10) for v in coords])\n",
    "    cost = np.abs(np.abs(g(y = y, coords = coords)) - np.abs(max_coord))\n",
    "    return cost\n",
    "    \n",
    "\n",
    "def softmax_value():\n",
    "    softmax_coord = np.array([softmax(alpha*v) for v in coords])\n",
    "    arg_correct_coord = np.vectorize(map_dim_cat.get)(y)\n",
    "    return np.array([c[pos] for c, pos in zip(softmax_coord,arg_correct_coord)])\n",
    "\n",
    "softmax_value\n",
    "\n",
    "def g(**kwargs):\n",
    "    X, y, theta, coords = kwargs.get(\"X\"), kwargs.get(\"y\"), kwargs.get(\"theta\"),  kwargs.get(\"coords\")\n",
    "    if coords is None:\n",
    "        coords = compute_coords(X, theta)\n",
    "    arg_correct_coord = np.vectorize(map_dim_cat.get)(y)\n",
    "    correct_coord = np.array([c[pos] for c, pos in zip(coords,arg_correct_coord)])\n",
    "    return correct_coord\n",
    "    "
   ]
  },
  {
   "cell_type": "code",
   "execution_count": 872,
   "id": "c08d359f-6de5-4410-a7ac-7a0926c167c8",
   "metadata": {},
   "outputs": [
    {
     "data": {
      "text/plain": [
       "array([0.18863416, 0.84774788, 0.87267988, 0.18749214, 0.49007247,\n",
       "       0.8676768 , 0.27311599, 0.2305656 , 0.61057829, 1.23100538,\n",
       "       0.325014  , 1.74574036, 1.2178195 , 1.59174494, 0.39611367,\n",
       "       1.53574215, 0.25131314, 1.09227806, 1.00530146, 0.17882359,\n",
       "       0.41324186, 1.18970811, 0.30212389, 0.96426078, 1.14782746,\n",
       "       1.75955012, 0.42096253, 1.10166653, 1.58777094, 0.28644477])"
      ]
     },
     "execution_count": 872,
     "metadata": {},
     "output_type": "execute_result"
    }
   ],
   "source": [
    "g(coords = coords, y = y)"
   ]
  },
  {
   "cell_type": "code",
   "execution_count": 7,
   "id": "37a9aedc-5090-4e88-bb5b-202792518007",
   "metadata": {},
   "outputs": [],
   "source": [
    "def stocashtic_gradient_descent(X,y,theta,learning_rate=0.01,iterations=10):\n",
    "    '''\n",
    "    X    = Matrix of X with added bias units\n",
    "    y    = Vector of Y\n",
    "    theta=Vector of thetas np.random.randn(j,1)\n",
    "    learning_rate \n",
    "    iterations = no of iterations\n",
    "    \n",
    "    Returns the final theta vector and array of cost history over no of iterations\n",
    "    '''\n",
    "    m = len(y)\n",
    "    cost_history = np.zeros(iterations)\n",
    "    \n",
    "    \n",
    "    for it in range(iterations):\n",
    "        cost =0.0\n",
    "        for i in range(m):\n",
    "            rand_ind = np.random.randint(0,m)\n",
    "            X_i = X[rand_ind,:].reshape(1,X.shape[1])\n",
    "            y_i = y[rand_ind].reshape(1,1)\n",
    "            prediction = np.dot(X_i,theta)\n",
    "\n",
    "            theta = theta -(1/m)*learning_rate*( X_i.T.dot((prediction - y_i)))\n",
    "            cost += cal_cost(theta,X_i,y_i)\n",
    "        cost_history[it]  = cost\n",
    "        \n",
    "    return theta, cost_history"
   ]
  },
  {
   "cell_type": "markdown",
   "id": "ad01fbd9-20c6-4e76-af0e-1743f92fe72d",
   "metadata": {},
   "source": [
    "### Mejoras\n",
    " * No necesita crear 1 variable por cada categoría (one-hot-encoding)\n",
    " * Cada eje es igual de distante de los demás"
   ]
  },
  {
   "cell_type": "code",
   "execution_count": 1,
   "id": "bcbe730c-6241-4355-8c8b-7bfb653cd57c",
   "metadata": {},
   "outputs": [
    {
     "name": "stdout",
     "output_type": "stream",
     "text": [
      "Available matplotlib backends: ['tk', 'gtk', 'gtk3', 'wx', 'qt4', 'qt5', 'qt', 'osx', 'nbagg', 'notebook', 'agg', 'svg', 'pdf', 'ps', 'inline', 'ipympl', 'widget']\n"
     ]
    }
   ],
   "source": [
    "%matplotlib --list"
   ]
  },
  {
   "cell_type": "code",
   "execution_count": 9,
   "id": "24af3e6e-08fe-40e0-93d2-2d7c503bf815",
   "metadata": {},
   "outputs": [],
   "source": [
    "%matplotlib inline\n"
   ]
  },
  {
   "cell_type": "code",
   "execution_count": 116,
   "id": "8c507aca-d3e1-4704-9647-3d1936456c8f",
   "metadata": {},
   "outputs": [],
   "source": [
    "t = np.linspace(-b,b,b*2*100)\n",
    "\n",
    "\n",
    "r = lambda t : 1*np.sin(t/10) + 1 #t + t**2\n",
    "x = lambda t : r(t)*np.sin(np.pi*t)\n",
    "y = lambda t : r(t)*np.cos(np.pi*t)\n"
   ]
  },
  {
   "cell_type": "code",
   "execution_count": 128,
   "id": "1ff66e76-034a-434b-b9b7-0ee47f88c2cf",
   "metadata": {},
   "outputs": [
    {
     "data": {
      "text/plain": [
       "(600, 2)"
      ]
     },
     "execution_count": 128,
     "metadata": {},
     "output_type": "execute_result"
    }
   ],
   "source": [
    "points = np.vstack([x(t), y(t)]).T\n",
    "\n",
    "points.shape"
   ]
  },
  {
   "cell_type": "code",
   "execution_count": 249,
   "id": "0be2d7a1-145d-4aae-9b7a-8a80f6f559ab",
   "metadata": {},
   "outputs": [
    {
     "data": {
      "text/plain": [
       "[<matplotlib.lines.Line2D at 0x7fcef2d89ca0>]"
      ]
     },
     "execution_count": 249,
     "metadata": {},
     "output_type": "execute_result"
    },
    {
     "data": {
      "image/png": "[encoded data removed]",
      "text/plain": [
       "<Figure size 504x504 with 1 Axes>"
      ]
     },
     "metadata": {
      "needs_background": "light"
     },
     "output_type": "display_data"
    }
   ],
   "source": [
    "import numpy as np\n",
    "import matplotlib.pyplot as plt\n",
    "from matplotlib import cm\n",
    "\n",
    "ax = None\n",
    "if ax is None:\n",
    "    ax = plt.figure(figsize = (7,7)).add_subplot()\n",
    "else:\n",
    "    ax.clear()\n",
    "\n",
    "# Prepare arrays x, y, z\n",
    "b = 2\n",
    "t = np.linspace(-b,b,b*2*1000)\n",
    "\n",
    "\n",
    "r = lambda t : 0.2*np.sin(100*t) + 1\n",
    "#r = lambda t : 0.1*np.sin(100*t) + 2\n",
    "#r = lambda t : (100*t + 200*t - 200*t**2)*0.1*np.sin(100*t) + 1\n",
    "x = lambda t : r(t)*np.sin(np.pi*t)\n",
    "y = lambda t : r(t)*np.cos(np.pi*t)\n",
    "\n",
    "ax.plot(x(t), y(t))"
   ]
  },
  {
   "cell_type": "code",
   "execution_count": null,
   "id": "5e68a77d-135b-4974-b156-5623469581ef",
   "metadata": {},
   "outputs": [],
   "source": []
  }
 ],
 "metadata": {
  "kernelspec": {
   "display_name": "yep",
   "language": "python",
   "name": "yep"
  },
  "language_info": {
   "codemirror_mode": {
    "name": "ipython",
    "version": 3
   },
   "file_extension": ".py",
   "mimetype": "text/x-python",
   "name": "python",
   "nbconvert_exporter": "python",
   "pygments_lexer": "ipython3",
   "version": "3.8.8"
  }
 },
 "nbformat": 4,
 "nbformat_minor": 5
}
